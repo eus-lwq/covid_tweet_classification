{
  "nbformat": 4,
  "nbformat_minor": 0,
  "metadata": {
    "colab": {
      "provenance": [],
      "collapsed_sections": []
    },
    "kernelspec": {
      "name": "python3",
      "display_name": "Python 3"
    },
    "language_info": {
      "name": "python"
    }
  },
  "cells": [
    {
      "cell_type": "code",
      "execution_count": 23,
      "metadata": {
        "id": "lWPMqETXjmfF"
      },
      "outputs": [],
      "source": [
        "import pandas as pd\n",
        "import numpy as np\n",
        "import re\n",
        "from sklearn.model_selection import train_test_split\n",
        "\n",
        "\n",
        "import matplotlib.pyplot as plt\n",
        "from wordcloud import WordCloud\n",
        "import seaborn as sns \n",
        "from tensorflow.keras.layers import Dense, Input, LSTM, Embedding, Dropout\n",
        "from tensorflow.keras.preprocessing.sequence import pad_sequences\n",
        "from tensorflow.keras.preprocessing.text import Tokenizer\n",
        "from tensorflow.keras.layers import GlobalMaxPool1D\n",
        "from tensorflow.keras.utils import to_categorical\n",
        "from tensorflow.keras.models import Model\n",
        "\n",
        "\n",
        "from sklearn.metrics import classification_report\n"
      ]
    },
    {
      "cell_type": "code",
      "source": [
        "from google.colab import drive\n",
        "drive.mount(\"/content/gdrive\")\n",
        "train = pd.read_csv('/content/gdrive/My Drive/Cisc_452_Neural_Network/covid_dataset/Corona_NLP_train.csv',encoding='latin-1')\n",
        "test = pd.read_csv('/content/gdrive/My Drive/Cisc_452_Neural_Network/covid_dataset/Corona_NLP_test.csv',encoding='latin-1')\n",
        "\n",
        "# Combaine train and test set\n",
        "df = train.append(test, ignore_index=True)"
      ],
      "metadata": {
        "colab": {
          "base_uri": "https://localhost:8080/"
        },
        "id": "vUYfgdnNj17e",
        "outputId": "1e12e59d-a991-4d6f-e4e2-fee9a6f895bd"
      },
      "execution_count": 33,
      "outputs": [
        {
          "output_type": "stream",
          "name": "stdout",
          "text": [
            "Drive already mounted at /content/gdrive; to attempt to forcibly remount, call drive.mount(\"/content/gdrive\", force_remount=True).\n"
          ]
        }
      ]
    },
    {
      "cell_type": "code",
      "source": [
        "def convert_Sentiment(sentiment):\n",
        "    if sentiment == \"Extremely Positive\":\n",
        "        return 4 #2\n",
        "    elif sentiment == \"Extremely Negative\":\n",
        "        return 3 #0\n",
        "    elif sentiment == \"Positive\":\n",
        "        return 2 #2\n",
        "    elif sentiment == \"Negative\":\n",
        "        return 1 #0\n",
        "    else:\n",
        "        return 0 #1"
      ],
      "metadata": {
        "id": "YtxJdiRYj9_r"
      },
      "execution_count": 31,
      "outputs": []
    },
    {
      "cell_type": "code",
      "source": [
        "# Apply convert_Sentiment function\n",
        "df.Sentiment = df.Sentiment.apply(lambda x : convert_Sentiment(x))\n",
        "# Visualize Sentiment\n",
        "print(df.Sentiment.value_counts())\n",
        "print('*' * 70)\n",
        "plt.figure(figsize = (9,5)) \n",
        "sns.countplot(x = 'Sentiment',data = df)\n",
        "plt.show()"
      ],
      "metadata": {
        "colab": {
          "base_uri": "https://localhost:8080/",
          "height": 455
        },
        "id": "MA5VDZwVkwO5",
        "outputId": "40d6b8e3-0e0d-4ae8-89c0-dade7536aa4d"
      },
      "execution_count": 34,
      "outputs": [
        {
          "output_type": "stream",
          "name": "stdout",
          "text": [
            "2    12369\n",
            "1    10958\n",
            "0     8332\n",
            "4     7223\n",
            "3     6073\n",
            "Name: Sentiment, dtype: int64\n",
            "**********************************************************************\n"
          ]
        },
        {
          "output_type": "display_data",
          "data": {
            "text/plain": [
              "<Figure size 648x360 with 1 Axes>"
            ],
            "image/png": "[encoded data removed]"
          },
          "metadata": {
            "needs_background": "light"
          }
        }
      ]
    },
    {
      "cell_type": "code",
      "source": [
        "def remove_url(text):\n",
        "    url = re.compile(r'https?://\\S+|www\\.\\S+')\n",
        "    return url.sub(r'',text)\n",
        "\n",
        "def remove_punct(text):\n",
        "    table = str.maketrans('', '', string.punctuation)\n",
        "    return text.translate(table)\n",
        "def remove_html(text):\n",
        "    html=re.compile(r'<.*?>')\n",
        "    return html.sub(r'',text)"
      ],
      "metadata": {
        "id": "6g528IlUlUI4"
      },
      "execution_count": 5,
      "outputs": []
    },
    {
      "cell_type": "code",
      "source": [
        "def remove_emoji(text):\n",
        "    emoji_pattern = re.compile(\"[\"\n",
        "                           u\"\\U0001F600-\\U0001F64F\"  # emoticons\n",
        "                           u\"\\U0001F300-\\U0001F5FF\"  # symbols & pictographs\n",
        "                           u\"\\U0001F680-\\U0001F6FF\"  # transport & map symbols\n",
        "                           u\"\\U0001F1E0-\\U0001F1FF\"  # flags (iOS)\n",
        "                           u\"\\U00002702-\\U000027B0\"\n",
        "                           u\"\\U000024C2-\\U0001F251\"\n",
        "                           \"]+\", flags=re.UNICODE)\n",
        "    return emoji_pattern.sub(r'', text)"
      ],
      "metadata": {
        "id": "5_H9RHnjlVnY"
      },
      "execution_count": 6,
      "outputs": []
    },
    {
      "cell_type": "code",
      "source": [
        "def decontraction(text):\n",
        "    text = re.sub(r\"won\\'t\", \" will not\", text)\n",
        "    text = re.sub(r\"won\\'t've\", \" will not have\", text)\n",
        "    text = re.sub(r\"can\\'t\", \" can not\", text)\n",
        "    text = re.sub(r\"don\\'t\", \" do not\", text)\n",
        "    \n",
        "    text = re.sub(r\"can\\'t've\", \" can not have\", text)\n",
        "    text = re.sub(r\"ma\\'am\", \" madam\", text)\n",
        "    text = re.sub(r\"let\\'s\", \" let us\", text)\n",
        "    text = re.sub(r\"ain\\'t\", \" am not\", text)\n",
        "    text = re.sub(r\"shan\\'t\", \" shall not\", text)\n",
        "    text = re.sub(r\"sha\\n't\", \" shall not\", text)\n",
        "    text = re.sub(r\"o\\'clock\", \" of the clock\", text)\n",
        "    text = re.sub(r\"y\\'all\", \" you all\", text)\n",
        "\n",
        "    text = re.sub(r\"n\\'t\", \" not\", text)\n",
        "    text = re.sub(r\"n\\'t've\", \" not have\", text)\n",
        "    text = re.sub(r\"\\'re\", \" are\", text)\n",
        "    text = re.sub(r\"\\'s\", \" is\", text)\n",
        "    text = re.sub(r\"\\'d\", \" would\", text)\n",
        "    text = re.sub(r\"\\'d've\", \" would have\", text)\n",
        "    text = re.sub(r\"\\'ll\", \" will\", text)\n",
        "    text = re.sub(r\"\\'ll've\", \" will have\", text)\n",
        "    text = re.sub(r\"\\'t\", \" not\", text)\n",
        "    text = re.sub(r\"\\'ve\", \" have\", text)\n",
        "    text = re.sub(r\"\\'m\", \" am\", text)\n",
        "    text = re.sub(r\"\\'re\", \" are\", text)\n",
        "    return text"
      ],
      "metadata": {
        "id": "uBOBEjxAlZfg"
      },
      "execution_count": 7,
      "outputs": []
    },
    {
      "cell_type": "code",
      "source": [
        "def seperate_alphanumeric(text):\n",
        "    words = text\n",
        "    words = re.findall(r\"[^\\W\\d_]+|\\d+\", words)\n",
        "    return \" \".join(words)\n",
        "\n",
        "def cont_rep_char(text):\n",
        "    tchr = text.group(0) \n",
        "    \n",
        "    if len(tchr) > 1:\n",
        "        return tchr[0:2] \n",
        "\n",
        "def unique_char(rep, text):\n",
        "    substitute = re.sub(r'(\\w)\\1+', rep, text)\n",
        "    return substitute"
      ],
      "metadata": {
        "id": "SF91niiNliU3"
      },
      "execution_count": 8,
      "outputs": []
    },
    {
      "cell_type": "code",
      "source": [
        "def char(text):\n",
        "    substitute = re.sub(r'[^a-zA-Z]',' ',text)\n",
        "    return substitute\n",
        "\n",
        "# Apply functions on OriginalTweet\n",
        "df['OriginalTweet'] = df['OriginalTweet'].apply(lambda x : remove_url(x))\n",
        "df['OriginalTweet'] = df['OriginalTweet'].apply(lambda x : remove_emoji(x))\n",
        "df['OriginalTweet'] = df['OriginalTweet'].apply(lambda x : decontraction(x))\n",
        "df['OriginalTweet'] = df['OriginalTweet'].apply(lambda x : seperate_alphanumeric(x))\n",
        "df['OriginalTweet'] = df['OriginalTweet'].apply(lambda x : unique_char(cont_rep_char,x))\n",
        "df['OriginalTweet'] = df['OriginalTweet'].apply(lambda x : char(x))\n",
        "df['OriginalTweet'] = df['OriginalTweet'].apply(lambda x : x.lower())"
      ],
      "metadata": {
        "id": "WujRJhnullv4"
      },
      "execution_count": 27,
      "outputs": []
    },
    {
      "cell_type": "code",
      "source": [
        " #Split sentiment groups \n",
        "'''Positive = df[df['Sentiment'] == 2].OriginalTweet\n",
        "Neutral  = df[df['Sentiment'] == 1].OriginalTweet\n",
        "Negative = df[df['Sentiment'] == 0].OriginalTweet'''\n",
        "Positive = df[df['Sentiment'] == 2].OriginalTweet\n",
        "Neutral  = df[df['Sentiment'] == 0].OriginalTweet\n",
        "Negative = df[df['Sentiment'] == 1].OriginalTweet\n",
        "Extreamly_Positive = df[df['Sentiment'] == 4].OriginalTweet\n",
        "Extreamly_Negative = df[df['Sentiment'] == 3].OriginalTweet\n"
      ],
      "metadata": {
        "id": "-wya7AdJlpQU"
      },
      "execution_count": 35,
      "outputs": []
    },
    {
      "cell_type": "code",
      "source": [
        "X = df['OriginalTweet']\n",
        "y = df['Sentiment']\n",
        "\n",
        "# Split data into train , test\n",
        "X_train , X_test , y_train , y_test = train_test_split(X,y,test_size=0.2,random_state=0)\n",
        "print('Shape of X_train : ' , X_train.shape)\n",
        "print('Shape of y_train : ', y_train.shape)\n",
        "print('Shape of X_test : ', X_test.shape)\n",
        "print('Shape of y_test : ',y_test.shape)"
      ],
      "metadata": {
        "colab": {
          "base_uri": "https://localhost:8080/"
        },
        "id": "ZzXMOEjalt1d",
        "outputId": "936024a2-c089-4951-b5f1-15f8ed45685c"
      },
      "execution_count": 36,
      "outputs": [
        {
          "output_type": "stream",
          "name": "stdout",
          "text": [
            "Shape of X_train :  (35964,)\n",
            "Shape of y_train :  (35964,)\n",
            "Shape of X_test :  (8991,)\n",
            "Shape of y_test :  (8991,)\n"
          ]
        }
      ]
    },
    {
      "cell_type": "code",
      "source": [
        "# Convert y to categorical \n",
        "'''y_train = to_categorical(y_train, 3)\n",
        "y_test  = to_categorical(y_test, 3)'''\n",
        "y_train = to_categorical(y_train, 5)\n",
        "y_test  = to_categorical(y_test, 5)\n",
        "# Tokenize Texts\n",
        "max_features = 20000\n",
        "tokenizer = Tokenizer(num_words=max_features)\n",
        "tokenizer.fit_on_texts(list(X_train))\n",
        "list_tokenized_train = tokenizer.texts_to_sequences(X_train)\n",
        "list_tokenized_test = tokenizer.texts_to_sequences(X_test)"
      ],
      "metadata": {
        "id": "riZlwE2DlzRB"
      },
      "execution_count": 37,
      "outputs": []
    },
    {
      "cell_type": "code",
      "source": [
        "# convert tokenized texts into same padding size\n",
        "maxlen = 100\n",
        "embed_size = 128 \n",
        "X_train_final = pad_sequences(list_tokenized_train, maxlen=maxlen)\n",
        "X_test_final = pad_sequences(list_tokenized_test, maxlen=maxlen)\n",
        "# Create Model  \n",
        "inp = Input(shape=(maxlen, )) \n",
        "x   =  Embedding(max_features, embed_size)(inp)\n",
        "x   =  LSTM(60, return_sequences=True,name='lstm_layer')(x)\n",
        "x   =  GlobalMaxPool1D()(x)\n",
        "x   =  Dense(64, activation=\"relu\")(x)\n",
        "x   =  Dropout(0.2)(x)\n",
        "x   =  Dense(5, activation=\"softmax\")(x)"
      ],
      "metadata": {
        "id": "mbASdCZWl_OW"
      },
      "execution_count": 57,
      "outputs": []
    },
    {
      "cell_type": "code",
      "source": [
        "model = Model(inputs=inp, outputs=x)\n",
        "model.compile(loss='categorical_crossentropy',\n",
        "              optimizer='adam',\n",
        "              metrics=['accuracy'])"
      ],
      "metadata": {
        "id": "fvmoMVi9mGU-"
      },
      "execution_count": 60,
      "outputs": []
    },
    {
      "cell_type": "code",
      "source": [
        "r = model.fit(X_train_final,y_train, epochs=3,validation_data=(X_test_final,y_test))"
      ],
      "metadata": {
        "colab": {
          "base_uri": "https://localhost:8080/"
        },
        "id": "elwRdmvRmH2f",
        "outputId": "b36e3b0b-19fd-46bb-ecef-7624dd9eb70e"
      },
      "execution_count": 61,
      "outputs": [
        {
          "output_type": "stream",
          "name": "stdout",
          "text": [
            "Epoch 1/3\n",
            "1124/1124 [==============================] - 107s 94ms/step - loss: 1.0055 - accuracy: 0.5907 - val_loss: 0.7027 - val_accuracy: 0.7466\n",
            "Epoch 2/3\n",
            "1124/1124 [==============================] - 106s 94ms/step - loss: 0.5625 - accuracy: 0.8042 - val_loss: 0.5981 - val_accuracy: 0.7856\n",
            "Epoch 3/3\n",
            "1124/1124 [==============================] - 104s 92ms/step - loss: 0.3875 - accuracy: 0.8724 - val_loss: 0.6166 - val_accuracy: 0.7886\n"
          ]
        }
      ]
    },
    {
      "cell_type": "code",
      "source": [
        "plt.plot(r.history['loss'],color = 'red')\n",
        "plt.plot(r.history['val_loss'],color = 'blue')\n",
        "plt.title('LOSS')\n",
        "plt.plot()"
      ],
      "metadata": {
        "colab": {
          "base_uri": "https://localhost:8080/",
          "height": 298
        },
        "id": "ttOtinDbEl-n",
        "outputId": "a92ad995-b48a-4e11-ed36-00a5a2246fe2"
      },
      "execution_count": 76,
      "outputs": [
        {
          "output_type": "execute_result",
          "data": {
            "text/plain": [
              "[]"
            ]
          },
          "metadata": {},
          "execution_count": 76
        },
        {
          "output_type": "display_data",
          "data": {
            "text/plain": [
              "<Figure size 432x288 with 1 Axes>"
            ],
            "image/png": "[encoded data removed]"
          },
          "metadata": {
            "needs_background": "light"
          }
        }
      ]
    },
    {
      "cell_type": "code",
      "source": [
        "# Evaluate\n",
        "model.evaluate(X_test_final,y_test)"
      ],
      "metadata": {
        "colab": {
          "base_uri": "https://localhost:8080/"
        },
        "id": "SncxtToy-AvH",
        "outputId": "66606cd9-122c-498c-eada-e30e71d5cd8b"
      },
      "execution_count": 77,
      "outputs": [
        {
          "output_type": "stream",
          "name": "stdout",
          "text": [
            "281/281 [==============================] - 5s 18ms/step - loss: 0.6166 - accuracy: 0.7886\n"
          ]
        },
        {
          "output_type": "execute_result",
          "data": {
            "text/plain": [
              "[0.6166083216667175, 0.7885663509368896]"
            ]
          },
          "metadata": {},
          "execution_count": 77
        }
      ]
    },
    {
      "cell_type": "code",
      "source": [
        "# Predict test\n",
        "lstm_pred = np.round(model.predict(X_test_final))\n",
        "# Precision , Recall , F1-score\n",
        "cr = classification_report(y_test,lstm_pred)\n",
        "print(cr)"
      ],
      "metadata": {
        "colab": {
          "base_uri": "https://localhost:8080/"
        },
        "id": "62dG0cFg-MUj",
        "outputId": "f0c5a0d5-b3ce-4b3a-f3a0-11b10fd5be37"
      },
      "execution_count": 64,
      "outputs": [
        {
          "output_type": "stream",
          "name": "stdout",
          "text": [
            "281/281 [==============================] - 6s 21ms/step\n",
            "              precision    recall  f1-score   support\n",
            "\n",
            "           0       0.91      0.80      0.85      1683\n",
            "           1       0.74      0.73      0.74      2202\n",
            "           2       0.78      0.73      0.76      2426\n",
            "           3       0.81      0.78      0.80      1264\n",
            "           4       0.81      0.85      0.83      1416\n",
            "\n",
            "   micro avg       0.80      0.77      0.79      8991\n",
            "   macro avg       0.81      0.78      0.79      8991\n",
            "weighted avg       0.80      0.77      0.79      8991\n",
            " samples avg       0.77      0.77      0.77      8991\n",
            "\n"
          ]
        },
        {
          "output_type": "stream",
          "name": "stderr",
          "text": [
            "/usr/local/lib/python3.7/dist-packages/sklearn/metrics/_classification.py:1318: UndefinedMetricWarning: Precision and F-score are ill-defined and being set to 0.0 in samples with no predicted labels. Use `zero_division` parameter to control this behavior.\n",
            "  _warn_prf(average, modifier, msg_start, len(result))\n"
          ]
        }
      ]
    }
  ]
}